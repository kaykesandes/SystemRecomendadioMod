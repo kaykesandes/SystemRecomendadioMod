{
 "cells": [
  {
   "cell_type": "code",
   "execution_count": null,
   "metadata": {
    "_uuid": "ce056ed9e92456b3b048e42fde7ae6166a6761ef",
    "execution": {
     "iopub.execute_input": "2025-04-10T04:56:47.489977Z",
     "iopub.status.busy": "2025-04-10T04:56:47.489643Z",
     "iopub.status.idle": "2025-04-10T04:56:48.678542Z",
     "shell.execute_reply": "2025-04-10T04:56:48.677208Z",
     "shell.execute_reply.started": "2025-04-10T04:56:47.489917Z"
    }
   },
   "outputs": [
    {
     "name": "stderr",
     "output_type": "stream",
     "text": [
      "Using TensorFlow backend.\n"
     ]
    }
   ],
   "source": [
    "import numpy as np\n",
    "import pandas as pd\n",
    "import matplotlib.pyplot as plt\n",
    "import os\n",
    "import warnings\n",
    "from keras.layers import Input, Embedding, Flatten, Dot, Dense\n",
    "from keras.models import Model\n",
    "\n",
    "warnings.filterwarnings('ignore')\n",
    "%matplotlib inline"
   ]
  },
  {
   "cell_type": "markdown",
   "metadata": {
    "_uuid": "62c1974a66aa6a0704ee5f54e6930231e77b5e04"
   },
   "source": [
    "<a id=\"1\"></a> \n",
    "## Loading in data"
   ]
  },
  {
   "cell_type": "code",
   "execution_count": 2,
   "metadata": {
    "_uuid": "0a21061e30926621f214cdcfe5a3ec25d24d4014",
    "execution": {
     "iopub.execute_input": "2024-05-15T04:56:12.399554Z",
     "iopub.status.busy": "2024-05-15T04:56:12.399225Z",
     "iopub.status.idle": "2024-05-15T04:56:12.904022Z",
     "shell.execute_reply": "2024-05-15T04:56:12.903103Z",
     "shell.execute_reply.started": "2024-05-15T04:56:12.399493Z"
    }
   },
   "outputs": [],
   "source": [
    "dataset = pd.read_csv('../input/ratings.csv')"
   ]
  },
  {
   "cell_type": "code",
   "execution_count": 3,
   "metadata": {
    "_uuid": "6f78b0074d669625bac9de84cbf9a294c3cdbee6",
    "execution": {
     "iopub.execute_input": "2024-05-15T04:56:12.905427Z",
     "iopub.status.busy": "2024-05-15T04:56:12.905163Z",
     "iopub.status.idle": "2024-05-15T04:56:12.932672Z",
     "shell.execute_reply": "2024-05-15T04:56:12.931769Z",
     "shell.execute_reply.started": "2024-05-15T04:56:12.905368Z"
    }
   },
   "outputs": [
    {
     "data": {
      "text/html": [
       "<div>\n",
       "<style scoped>\n",
       "    .dataframe tbody tr th:only-of-type {\n",
       "        vertical-align: middle;\n",
       "    }\n",
       "\n",
       "    .dataframe tbody tr th {\n",
       "        vertical-align: top;\n",
       "    }\n",
       "\n",
       "    .dataframe thead th {\n",
       "        text-align: right;\n",
       "    }\n",
       "</style>\n",
       "<table border=\"1\" class=\"dataframe\">\n",
       "  <thead>\n",
       "    <tr style=\"text-align: right;\">\n",
       "      <th></th>\n",
       "      <th>book_id</th>\n",
       "      <th>user_id</th>\n",
       "      <th>rating</th>\n",
       "    </tr>\n",
       "  </thead>\n",
       "  <tbody>\n",
       "    <tr>\n",
       "      <th>0</th>\n",
       "      <td>1</td>\n",
       "      <td>314</td>\n",
       "      <td>5</td>\n",
       "    </tr>\n",
       "    <tr>\n",
       "      <th>1</th>\n",
       "      <td>1</td>\n",
       "      <td>439</td>\n",
       "      <td>3</td>\n",
       "    </tr>\n",
       "    <tr>\n",
       "      <th>2</th>\n",
       "      <td>1</td>\n",
       "      <td>588</td>\n",
       "      <td>5</td>\n",
       "    </tr>\n",
       "    <tr>\n",
       "      <th>3</th>\n",
       "      <td>1</td>\n",
       "      <td>1169</td>\n",
       "      <td>4</td>\n",
       "    </tr>\n",
       "    <tr>\n",
       "      <th>4</th>\n",
       "      <td>1</td>\n",
       "      <td>1185</td>\n",
       "      <td>4</td>\n",
       "    </tr>\n",
       "  </tbody>\n",
       "</table>\n",
       "</div>"
      ],
      "text/plain": [
       "   book_id  user_id  rating\n",
       "0        1      314       5\n",
       "1        1      439       3\n",
       "2        1      588       5\n",
       "3        1     1169       4\n",
       "4        1     1185       4"
      ]
     },
     "execution_count": 3,
     "metadata": {},
     "output_type": "execute_result"
    }
   ],
   "source": [
    "dataset.head()"
   ]
  },
  {
   "cell_type": "code",
   "execution_count": 4,
   "metadata": {
    "_uuid": "97b38898f1a9b2bcde3846273772d720a45600f9",
    "execution": {
     "iopub.execute_input": "2024-05-15T04:56:12.934710Z",
     "iopub.status.busy": "2024-05-15T04:56:12.934281Z",
     "iopub.status.idle": "2024-05-15T04:56:12.940853Z",
     "shell.execute_reply": "2024-05-15T04:56:12.939932Z",
     "shell.execute_reply.started": "2024-05-15T04:56:12.934634Z"
    }
   },
   "outputs": [
    {
     "data": {
      "text/plain": [
       "(981756, 3)"
      ]
     },
     "execution_count": 4,
     "metadata": {},
     "output_type": "execute_result"
    }
   ],
   "source": [
    "dataset.shape"
   ]
  },
  {
   "cell_type": "code",
   "execution_count": 5,
   "metadata": {
    "_uuid": "48a5d449987d8e4b5f7a02d42969c270204d6852",
    "execution": {
     "iopub.execute_input": "2024-05-15T04:56:12.942469Z",
     "iopub.status.busy": "2024-05-15T04:56:12.942110Z",
     "iopub.status.idle": "2024-05-15T04:56:14.008328Z",
     "shell.execute_reply": "2024-05-15T04:56:14.007491Z",
     "shell.execute_reply.started": "2024-05-15T04:56:12.942359Z"
    }
   },
   "outputs": [],
   "source": [
    "from sklearn.model_selection import train_test_split\n",
    "train, test = train_test_split(dataset, test_size=0.2, random_state=42)"
   ]
  },
  {
   "cell_type": "code",
   "execution_count": 6,
   "metadata": {
    "_uuid": "ef8d409cf636b9efdc758e60c9cdc4b16b6d7b5f",
    "execution": {
     "iopub.execute_input": "2024-05-15T04:56:14.010086Z",
     "iopub.status.busy": "2024-05-15T04:56:14.009641Z",
     "iopub.status.idle": "2024-05-15T04:56:14.027126Z",
     "shell.execute_reply": "2024-05-15T04:56:14.026229Z",
     "shell.execute_reply.started": "2024-05-15T04:56:14.010040Z"
    }
   },
   "outputs": [
    {
     "data": {
      "text/html": [
       "<div>\n",
       "<style scoped>\n",
       "    .dataframe tbody tr th:only-of-type {\n",
       "        vertical-align: middle;\n",
       "    }\n",
       "\n",
       "    .dataframe tbody tr th {\n",
       "        vertical-align: top;\n",
       "    }\n",
       "\n",
       "    .dataframe thead th {\n",
       "        text-align: right;\n",
       "    }\n",
       "</style>\n",
       "<table border=\"1\" class=\"dataframe\">\n",
       "  <thead>\n",
       "    <tr style=\"text-align: right;\">\n",
       "      <th></th>\n",
       "      <th>book_id</th>\n",
       "      <th>user_id</th>\n",
       "      <th>rating</th>\n",
       "    </tr>\n",
       "  </thead>\n",
       "  <tbody>\n",
       "    <tr>\n",
       "      <th>341848</th>\n",
       "      <td>3423</td>\n",
       "      <td>4608</td>\n",
       "      <td>2</td>\n",
       "    </tr>\n",
       "    <tr>\n",
       "      <th>964349</th>\n",
       "      <td>9811</td>\n",
       "      <td>36373</td>\n",
       "      <td>5</td>\n",
       "    </tr>\n",
       "    <tr>\n",
       "      <th>645459</th>\n",
       "      <td>6485</td>\n",
       "      <td>2957</td>\n",
       "      <td>4</td>\n",
       "    </tr>\n",
       "    <tr>\n",
       "      <th>74960</th>\n",
       "      <td>750</td>\n",
       "      <td>42400</td>\n",
       "      <td>3</td>\n",
       "    </tr>\n",
       "    <tr>\n",
       "      <th>358670</th>\n",
       "      <td>3591</td>\n",
       "      <td>36886</td>\n",
       "      <td>5</td>\n",
       "    </tr>\n",
       "  </tbody>\n",
       "</table>\n",
       "</div>"
      ],
      "text/plain": [
       "        book_id  user_id  rating\n",
       "341848     3423     4608       2\n",
       "964349     9811    36373       5\n",
       "645459     6485     2957       4\n",
       "74960       750    42400       3\n",
       "358670     3591    36886       5"
      ]
     },
     "execution_count": 6,
     "metadata": {},
     "output_type": "execute_result"
    }
   ],
   "source": [
    "train.head()"
   ]
  },
  {
   "cell_type": "code",
   "execution_count": 7,
   "metadata": {
    "_uuid": "f0ae2e1b14e908a90b4a5d2d87bfb7a880f40206",
    "execution": {
     "iopub.execute_input": "2024-05-15T04:56:14.029051Z",
     "iopub.status.busy": "2024-05-15T04:56:14.028753Z",
     "iopub.status.idle": "2024-05-15T04:56:14.044143Z",
     "shell.execute_reply": "2024-05-15T04:56:14.043367Z",
     "shell.execute_reply.started": "2024-05-15T04:56:14.028994Z"
    }
   },
   "outputs": [
    {
     "data": {
      "text/html": [
       "<div>\n",
       "<style scoped>\n",
       "    .dataframe tbody tr th:only-of-type {\n",
       "        vertical-align: middle;\n",
       "    }\n",
       "\n",
       "    .dataframe tbody tr th {\n",
       "        vertical-align: top;\n",
       "    }\n",
       "\n",
       "    .dataframe thead th {\n",
       "        text-align: right;\n",
       "    }\n",
       "</style>\n",
       "<table border=\"1\" class=\"dataframe\">\n",
       "  <thead>\n",
       "    <tr style=\"text-align: right;\">\n",
       "      <th></th>\n",
       "      <th>book_id</th>\n",
       "      <th>user_id</th>\n",
       "      <th>rating</th>\n",
       "    </tr>\n",
       "  </thead>\n",
       "  <tbody>\n",
       "    <tr>\n",
       "      <th>646451</th>\n",
       "      <td>6495</td>\n",
       "      <td>19643</td>\n",
       "      <td>5</td>\n",
       "    </tr>\n",
       "    <tr>\n",
       "      <th>614851</th>\n",
       "      <td>6175</td>\n",
       "      <td>8563</td>\n",
       "      <td>4</td>\n",
       "    </tr>\n",
       "    <tr>\n",
       "      <th>974393</th>\n",
       "      <td>9920</td>\n",
       "      <td>52110</td>\n",
       "      <td>3</td>\n",
       "    </tr>\n",
       "    <tr>\n",
       "      <th>21471</th>\n",
       "      <td>215</td>\n",
       "      <td>33864</td>\n",
       "      <td>5</td>\n",
       "    </tr>\n",
       "    <tr>\n",
       "      <th>272540</th>\n",
       "      <td>2728</td>\n",
       "      <td>16587</td>\n",
       "      <td>3</td>\n",
       "    </tr>\n",
       "  </tbody>\n",
       "</table>\n",
       "</div>"
      ],
      "text/plain": [
       "        book_id  user_id  rating\n",
       "646451     6495    19643       5\n",
       "614851     6175     8563       4\n",
       "974393     9920    52110       3\n",
       "21471       215    33864       5\n",
       "272540     2728    16587       3"
      ]
     },
     "execution_count": 7,
     "metadata": {},
     "output_type": "execute_result"
    }
   ],
   "source": [
    "test.head()"
   ]
  },
  {
   "cell_type": "code",
   "execution_count": 8,
   "metadata": {
    "_uuid": "b444a690fa741d0ac70fdeab6a4de6a934da69f6",
    "execution": {
     "iopub.execute_input": "2024-05-15T04:56:14.045842Z",
     "iopub.status.busy": "2024-05-15T04:56:14.045355Z",
     "iopub.status.idle": "2024-05-15T04:56:14.074988Z",
     "shell.execute_reply": "2024-05-15T04:56:14.073877Z",
     "shell.execute_reply.started": "2024-05-15T04:56:14.045794Z"
    }
   },
   "outputs": [
    {
     "data": {
      "text/plain": [
       "53424"
      ]
     },
     "execution_count": 8,
     "metadata": {},
     "output_type": "execute_result"
    }
   ],
   "source": [
    "n_users = len(dataset.user_id.unique())\n",
    "n_users"
   ]
  },
  {
   "cell_type": "code",
   "execution_count": 9,
   "metadata": {
    "_uuid": "08e80181f65bbf76624eff230195c1fd33b0deef",
    "execution": {
     "iopub.execute_input": "2024-05-15T04:56:14.076988Z",
     "iopub.status.busy": "2024-05-15T04:56:14.076579Z",
     "iopub.status.idle": "2024-05-15T04:56:14.096908Z",
     "shell.execute_reply": "2024-05-15T04:56:14.096006Z",
     "shell.execute_reply.started": "2024-05-15T04:56:14.076919Z"
    }
   },
   "outputs": [
    {
     "data": {
      "text/plain": [
       "10000"
      ]
     },
     "execution_count": 9,
     "metadata": {},
     "output_type": "execute_result"
    }
   ],
   "source": [
    "n_books = len(dataset.book_id.unique())\n",
    "n_books"
   ]
  },
  {
   "cell_type": "markdown",
   "metadata": {
    "_uuid": "ed729423d30ca35c47df3f724b67748a44d9c461"
   },
   "source": [
    "<a id=\"2\"></a> \n",
    "## Creating dot product model\n",
    "Mos"
   ]
  },
  {
   "cell_type": "code",
   "execution_count": 10,
   "metadata": {
    "_uuid": "b750e2a4b34f171220332e8b5fb183116aefd939",
    "execution": {
     "iopub.execute_input": "2024-05-15T04:56:14.098615Z",
     "iopub.status.busy": "2024-05-15T04:56:14.098277Z",
     "iopub.status.idle": "2024-05-15T04:56:14.220700Z",
     "shell.execute_reply": "2024-05-15T04:56:14.219580Z",
     "shell.execute_reply.started": "2024-05-15T04:56:14.098554Z"
    }
   },
   "outputs": [],
   "source": [
    "# creating book embedding path\n",
    "book_input = Input(shape=[1], name=\"Book-Input\")\n",
    "book_embedding = Embedding(n_books+1, 5, name=\"Book-Embedding\")(book_input)\n",
    "book_vec = Flatten(name=\"Flatten-Books\")(book_embedding)\n",
    "\n",
    "# creating user embedding path\n",
    "user_input = Input(shape=[1], name=\"User-Input\")\n",
    "user_embedding = Embedding(n_users+1, 5, name=\"User-Embedding\")(user_input)\n",
    "user_vec = Flatten(name=\"Flatten-Users\")(user_embedding)\n",
    "\n",
    "# performing dot product and creating model\n",
    "prod = Dot(name=\"Dot-Product\", axes=1)([book_vec, user_vec])\n",
    "model = Model([user_input, book_input], prod)\n",
    "model.compile('adam', 'mean_squared_error')"
   ]
  },
  {
   "cell_type": "code",
   "execution_count": 11,
   "metadata": {
    "_uuid": "fcaf5014dd777569353cd2ea335c358d374663e0",
    "execution": {
     "iopub.execute_input": "2024-05-15T04:56:14.224097Z",
     "iopub.status.busy": "2024-05-15T04:56:14.223523Z",
     "iopub.status.idle": "2024-05-15T05:02:46.592649Z",
     "shell.execute_reply": "2024-05-15T05:02:46.591621Z",
     "shell.execute_reply.started": "2024-05-15T04:56:14.224032Z"
    },
    "scrolled": true
   },
   "outputs": [
    {
     "name": "stdout",
     "output_type": "stream",
     "text": [
      "Epoch 1/5\n",
      "785404/785404 [==============================] - 44s 56us/step - loss: 13.9679\n",
      "Epoch 2/5\n",
      "266656/785404 [=========>....................] - ETA: 28s - loss: 6.8166"
     ]
    }
   ],
   "source": [
    "from keras.models import load_model\n",
    "\n",
    "if os.path.exists('regression_model.h5'):\n",
    "    model = load_model('regression_model.h5')\n",
    "else:\n",
    "    history = model.fit([train.user_id, train.book_id], train.rating, epochs=5, verbose=1)\n",
    "    model.save('regression_model.h5')\n",
    "    plt.plot(history.history['loss'])\n",
    "    plt.xlabel(\"Epochs\")\n",
    "    plt.ylabel(\"Training Error\")"
   ]
  },
  {
   "cell_type": "code",
   "execution_count": null,
   "metadata": {
    "_uuid": "dfc1a1d16e3bf10eda4caeaf9f14d0a7a63df847",
    "execution": {
     "iopub.execute_input": "2024-05-15T05:02:46.594945Z",
     "iopub.status.busy": "2024-05-15T05:02:46.594291Z",
     "iopub.status.idle": "2024-05-15T05:02:49.855195Z",
     "shell.execute_reply": "2024-05-15T05:02:49.854081Z",
     "shell.execute_reply.started": "2024-05-15T05:02:46.594872Z"
    }
   },
   "outputs": [],
   "source": [
    "model.evaluate([test.user_id, test.book_id], test.rating)"
   ]
  },
  {
   "cell_type": "code",
   "execution_count": null,
   "metadata": {
    "_uuid": "af858eae15d9b72f7181cd15563e0ea860596206",
    "execution": {
     "iopub.execute_input": "2024-05-15T05:02:49.857069Z",
     "iopub.status.busy": "2024-05-15T05:02:49.856689Z",
     "iopub.status.idle": "2024-05-15T05:02:49.896546Z",
     "shell.execute_reply": "2024-05-15T05:02:49.895064Z",
     "shell.execute_reply.started": "2024-05-15T05:02:49.856997Z"
    }
   },
   "outputs": [],
   "source": [
    "predictions = model.predict([test.user_id.head(10), test.book_id.head(10)])\n",
    "\n",
    "[print(predictions[i], test.rating.iloc[i]) for i in range(0,10)]"
   ]
  },
  {
   "cell_type": "markdown",
   "metadata": {
    "_uuid": "0ef0ee39621a1ae659307865f9b34d52b8706a71"
   },
   "source": [
    "<a id=\"3\"></a> \n",
    "## Creating Neural Network\n",
    "Neural Networks proved there effectivness for almost every machine learning problem as of now and they also perform exceptionally well for recommendation systems."
   ]
  },
  {
   "cell_type": "code",
   "execution_count": null,
   "metadata": {
    "_uuid": "d8ecc4f30097e87f19c1f30de680acb5c93de055",
    "execution": {
     "iopub.execute_input": "2024-05-15T05:02:49.898151Z",
     "iopub.status.busy": "2024-05-15T05:02:49.897885Z",
     "iopub.status.idle": "2024-05-15T05:02:50.039168Z",
     "shell.execute_reply": "2024-05-15T05:02:50.037902Z",
     "shell.execute_reply.started": "2024-05-15T05:02:49.898105Z"
    }
   },
   "outputs": [],
   "source": [
    "from keras.layers import Concatenate\n",
    "\n",
    "# creating book embedding path\n",
    "book_input = Input(shape=[1], name=\"Book-Input\")\n",
    "book_embedding = Embedding(n_books+1, 5, name=\"Book-Embedding\")(book_input)\n",
    "book_vec = Flatten(name=\"Flatten-Books\")(book_embedding)\n",
    "\n",
    "# creating user embedding path\n",
    "user_input = Input(shape=[1], name=\"User-Input\")\n",
    "user_embedding = Embedding(n_users+1, 5, name=\"User-Embedding\")(user_input)\n",
    "user_vec = Flatten(name=\"Flatten-Users\")(user_embedding)\n",
    "\n",
    "# concatenate features\n",
    "conc = Concatenate()([book_vec, user_vec])\n",
    "\n",
    "# add fully-connected-layers\n",
    "fc1 = Dense(128, activation='relu')(conc)\n",
    "fc2 = Dense(32, activation='relu')(fc1)\n",
    "out = Dense(1)(fc2)\n",
    "\n",
    "# Create model and compile it\n",
    "model2 = Model([user_input, book_input], out)\n",
    "model2.compile('adam', 'mean_squared_error')"
   ]
  },
  {
   "cell_type": "code",
   "execution_count": 15,
   "metadata": {
    "_uuid": "37660cd66bff9dfdd190d4b1f4db9b24d62ae119",
    "execution": {
     "iopub.execute_input": "2024-05-15T05:02:50.041308Z",
     "iopub.status.busy": "2024-05-15T05:02:50.040972Z",
     "iopub.status.idle": "2024-05-15T05:10:31.158194Z",
     "shell.execute_reply": "2024-05-15T05:10:31.156862Z",
     "shell.execute_reply.started": "2024-05-15T05:02:50.041242Z"
    }
   },
   "outputs": [
    {
     "name": "stdout",
     "output_type": "stream",
     "text": [
      "Epoch 1/5\n",
      "785404/785404 [==============================] - 57s 72us/step - loss: 0.6884\n",
      "Epoch 3/5\n",
      "785404/785404 [==============================] - 56s 72us/step - loss: 0.6599\n",
      "Epoch 4/5\n",
      "785404/785404 [==============================] - 56s 71us/step - loss: 0.6359\n",
      "Epoch 5/5\n",
      "785404/785404 [==============================] - 56s 71us/step - loss: 0.6161\n"
     ]
    },
    {
     "data": {
      "image/png": "[encoded data removed]",
      "text/plain": [
       "<Figure size 432x288 with 1 Axes>"
      ]
     },
     "metadata": {},
     "output_type": "display_data"
    }
   ],
   "source": [
    "from keras.models import load_model\n",
    "\n",
    "if os.path.exists('regression_model2.h5'):\n",
    "    model2 = load_model('regression_model2.h5')\n",
    "else:\n",
    "    history = model2.fit([train.user_id, train.book_id], train.rating, epochs=5, verbose=1)\n",
    "    model2.save('regression_model2.h5')\n",
    "    plt.plot(history.history['loss'])\n",
    "    plt.xlabel(\"Epochs\")\n",
    "    plt.ylabel(\"Training Error\")"
   ]
  },
  {
   "cell_type": "code",
   "execution_count": 16,
   "metadata": {
    "_uuid": "17e872c66ac70fdac84d6f072a4f11c1183ed1ac",
    "execution": {
     "iopub.execute_input": "2024-05-15T05:10:31.161147Z",
     "iopub.status.busy": "2024-05-15T05:10:31.160384Z",
     "iopub.status.idle": "2024-05-15T05:10:34.983234Z",
     "shell.execute_reply": "2024-05-15T05:10:34.982377Z",
     "shell.execute_reply.started": "2024-05-15T05:10:31.161064Z"
    }
   },
   "outputs": [
    {
     "name": "stdout",
     "output_type": "stream",
     "text": [
      "196352/196352 [==============================] - 6s 28us/step\n"
     ]
    },
    {
     "data": {
      "text/plain": [
       "0.7173672090254171"
      ]
     },
     "execution_count": 16,
     "metadata": {},
     "output_type": "execute_result"
    }
   ],
   "source": [
    "model2.evaluate([test.user_id, test.book_id], test.rating)"
   ]
  },
  {
   "cell_type": "code",
   "execution_count": 17,
   "metadata": {
    "_uuid": "980f6dc0e760665ad60128bfe09cf024877ff7d4",
    "execution": {
     "iopub.execute_input": "2024-05-15T05:10:34.984781Z",
     "iopub.status.busy": "2024-05-15T05:10:34.984524Z",
     "iopub.status.idle": "2024-05-15T05:10:35.039762Z",
     "shell.execute_reply": "2024-05-15T05:10:35.038924Z",
     "shell.execute_reply.started": "2024-05-15T05:10:34.984736Z"
    }
   },
   "outputs": [
    {
     "name": "stdout",
     "output_type": "stream",
     "text": [
      "[4.833578] 5\n",
      "[3.7849927] 4\n",
      "[3.5545206] 3\n",
      "[4.106638] 5\n",
      "[3.2559366] 3\n",
      "[3.804083] 3\n",
      "[3.7429209] 3\n",
      "[4.6357584] 4\n",
      "[4.0357985] 3\n",
      "[4.010499] 5\n"
     ]
    },
    {
     "data": {
      "text/plain": [
       "[None, None, None, None, None, None, None, None, None, None]"
      ]
     },
     "execution_count": 17,
     "metadata": {},
     "output_type": "execute_result"
    }
   ],
   "source": [
    "predictions = model2.predict([test.user_id.head(10), test.book_id.head(10)])\n",
    "\n",
    "[print(predictions[i], test.rating.iloc[i]) for i in range(0,10)]"
   ]
  },
  {
   "cell_type": "markdown",
   "metadata": {
    "_uuid": "0ea24e7e37c33a30f60a14c2a239968dbdbedaea"
   },
   "source": [
    "<a id=\"4\"></a> \n",
    "## Visualizing Embeddings\n",
    "Embeddings are weights that are learned to represent some specific variable like books and user in our case and therefore we can not only use them to get good results on our problem but also to extract inside about our data."
   ]
  },
  {
   "cell_type": "code",
   "execution_count": 18,
   "metadata": {
    "_uuid": "9d6538b4aafe150a0384ae123d6b1c7e350480e5",
    "execution": {
     "iopub.execute_input": "2024-05-15T05:10:35.041594Z",
     "iopub.status.busy": "2024-05-15T05:10:35.041172Z",
     "iopub.status.idle": "2024-05-15T05:10:35.047230Z",
     "shell.execute_reply": "2024-05-15T05:10:35.046126Z",
     "shell.execute_reply.started": "2024-05-15T05:10:35.041408Z"
    }
   },
   "outputs": [],
   "source": [
    "# Extract embeddings\n",
    "book_em = model.get_layer('Book-Embedding')\n",
    "book_em_weights = book_em.get_weights()[0]"
   ]
  },
  {
   "cell_type": "code",
   "execution_count": 19,
   "metadata": {
    "_uuid": "dacfad39fd8ff618febf61be494c1c62a0698134",
    "execution": {
     "iopub.execute_input": "2024-05-15T05:10:35.048642Z",
     "iopub.status.busy": "2024-05-15T05:10:35.048349Z",
     "iopub.status.idle": "2024-05-15T05:10:35.064184Z",
     "shell.execute_reply": "2024-05-15T05:10:35.063093Z",
     "shell.execute_reply.started": "2024-05-15T05:10:35.048597Z"
    }
   },
   "outputs": [
    {
     "data": {
      "text/plain": [
       "array([[-4.8873574e-04,  4.4145290e-02, -4.5535959e-02,  2.6939120e-02,\n",
       "         2.6036669e-02],\n",
       "       [ 1.6368195e+00,  1.5383103e+00, -1.0708759e+00, -1.3678262e+00,\n",
       "        -1.2999800e+00],\n",
       "       [ 1.4487640e+00,  1.4380308e+00, -6.2510550e-01, -1.4753336e+00,\n",
       "        -1.5365742e+00],\n",
       "       [ 1.2585487e+00,  1.0782738e+00, -7.1565926e-01, -1.1983266e+00,\n",
       "        -9.4873500e-01],\n",
       "       [ 1.3595849e+00,  1.4679240e+00, -1.0668998e+00, -1.4201839e+00,\n",
       "        -1.5884262e+00]], dtype=float32)"
      ]
     },
     "execution_count": 19,
     "metadata": {},
     "output_type": "execute_result"
    }
   ],
   "source": [
    "book_em_weights[:5]"
   ]
  },
  {
   "cell_type": "code",
   "execution_count": 20,
   "metadata": {
    "_uuid": "24836560bf1894a888c4fe14a289918fcb660604",
    "execution": {
     "iopub.execute_input": "2024-05-15T05:10:35.065771Z",
     "iopub.status.busy": "2024-05-15T05:10:35.065435Z",
     "iopub.status.idle": "2024-05-15T05:10:36.061887Z",
     "shell.execute_reply": "2024-05-15T05:10:36.060906Z",
     "shell.execute_reply.started": "2024-05-15T05:10:35.065726Z"
    }
   },
   "outputs": [
    {
     "data": {
      "text/plain": [
       "<matplotlib.axes._subplots.AxesSubplot at 0x7bd5b80ad828>"
      ]
     },
     "execution_count": 20,
     "metadata": {},
     "output_type": "execute_result"
    },
    {
     "data": {
      "image/png": "[encoded data removed]",
      "text/plain": [
       "<Figure size 432x288 with 1 Axes>"
      ]
     },
     "metadata": {},
     "output_type": "display_data"
    }
   ],
   "source": [
    "from sklearn.decomposition import PCA\n",
    "import seaborn as sns\n",
    "\n",
    "pca = PCA(n_components=2)\n",
    "pca_result = pca.fit_transform(book_em_weights)\n",
    "sns.scatterplot(x=pca_result[:,0], y=pca_result[:,1])"
   ]
  },
  {
   "cell_type": "code",
   "execution_count": 21,
   "metadata": {
    "_uuid": "46fca5cf0c61838f4a19e0e1c13960e94c0b9f53",
    "execution": {
     "iopub.execute_input": "2024-05-15T05:10:36.063938Z",
     "iopub.status.busy": "2024-05-15T05:10:36.063391Z",
     "iopub.status.idle": "2024-05-15T05:10:36.076617Z",
     "shell.execute_reply": "2024-05-15T05:10:36.075487Z",
     "shell.execute_reply.started": "2024-05-15T05:10:36.063876Z"
    }
   },
   "outputs": [
    {
     "data": {
      "text/plain": [
       "1.0"
      ]
     },
     "execution_count": 21,
     "metadata": {},
     "output_type": "execute_result"
    }
   ],
   "source": [
    "book_em_weights = book_em_weights / np.linalg.norm(book_em_weights, axis = 1).reshape((-1, 1))\n",
    "book_em_weights[0][:10]\n",
    "np.sum(np.square(book_em_weights[0]))"
   ]
  },
  {
   "cell_type": "code",
   "execution_count": 22,
   "metadata": {
    "_uuid": "21ef4e78593cffc9799f0f0aa8d7f458d7689f93",
    "execution": {
     "iopub.execute_input": "2024-05-15T05:10:36.078773Z",
     "iopub.status.busy": "2024-05-15T05:10:36.078184Z",
     "iopub.status.idle": "2024-05-15T05:10:36.576707Z",
     "shell.execute_reply": "2024-05-15T05:10:36.575283Z",
     "shell.execute_reply.started": "2024-05-15T05:10:36.078507Z"
    }
   },
   "outputs": [
    {
     "data": {
      "text/plain": [
       "<matplotlib.axes._subplots.AxesSubplot at 0x7bd5b0799320>"
      ]
     },
     "execution_count": 22,
     "metadata": {},
     "output_type": "execute_result"
    },
    {
     "data": {
      "image/png": "[encoded data removed]",
      "text/plain": [
       "<Figure size 432x288 with 1 Axes>"
      ]
     },
     "metadata": {},
     "output_type": "display_data"
    }
   ],
   "source": [
    "pca = PCA(n_components=2)\n",
    "pca_result = pca.fit_transform(book_em_weights)\n",
    "sns.scatterplot(x=pca_result[:,0], y=pca_result[:,1])"
   ]
  },
  {
   "cell_type": "code",
   "execution_count": 23,
   "metadata": {
    "_uuid": "e17988b4b85c0ee5edccf9c94bb16209126d1e74",
    "execution": {
     "iopub.execute_input": "2024-05-15T05:10:36.579591Z",
     "iopub.status.busy": "2024-05-15T05:10:36.578810Z",
     "iopub.status.idle": "2024-05-15T05:11:15.031286Z",
     "shell.execute_reply": "2024-05-15T05:11:15.030433Z",
     "shell.execute_reply.started": "2024-05-15T05:10:36.579494Z"
    }
   },
   "outputs": [
    {
     "name": "stdout",
     "output_type": "stream",
     "text": [
      "[t-SNE] Computing 121 nearest neighbors...\n",
      "[t-SNE] Indexed 10001 samples in 0.005s...\n",
      "[t-SNE] Computed neighbors for 10001 samples in 0.531s...\n",
      "[t-SNE] Computed conditional probabilities for sample 1000 / 10001\n",
      "[t-SNE] Computed conditional probabilities for sample 2000 / 10001\n",
      "[t-SNE] Computed conditional probabilities for sample 3000 / 10001\n",
      "[t-SNE] Computed conditional probabilities for sample 4000 / 10001\n",
      "[t-SNE] Computed conditional probabilities for sample 5000 / 10001\n",
      "[t-SNE] Computed conditional probabilities for sample 6000 / 10001\n",
      "[t-SNE] Computed conditional probabilities for sample 7000 / 10001\n",
      "[t-SNE] Computed conditional probabilities for sample 8000 / 10001\n",
      "[t-SNE] Computed conditional probabilities for sample 9000 / 10001\n",
      "[t-SNE] Computed conditional probabilities for sample 10000 / 10001\n",
      "[t-SNE] Computed conditional probabilities for sample 10001 / 10001\n",
      "[t-SNE] Mean sigma: 0.026618\n",
      "[t-SNE] KL divergence after 250 iterations with early exaggeration: 79.120491\n",
      "[t-SNE] KL divergence after 300 iterations: 2.719502\n"
     ]
    }
   ],
   "source": [
    "from sklearn.manifold import TSNE\n",
    "\n",
    "tsne = TSNE(n_components=2, verbose=1, perplexity=40, n_iter=300)\n",
    "tnse_results = tsne.fit_transform(book_em_weights)"
   ]
  },
  {
   "cell_type": "code",
   "execution_count": 24,
   "metadata": {
    "_uuid": "3f2ece235d9d912319f8928dced00d6fe3012576",
    "execution": {
     "iopub.execute_input": "2024-05-15T05:11:15.032877Z",
     "iopub.status.busy": "2024-05-15T05:11:15.032577Z",
     "iopub.status.idle": "2024-05-15T05:11:15.512887Z",
     "shell.execute_reply": "2024-05-15T05:11:15.511360Z",
     "shell.execute_reply.started": "2024-05-15T05:11:15.032829Z"
    }
   },
   "outputs": [
    {
     "data": {
      "text/plain": [
       "<matplotlib.axes._subplots.AxesSubplot at 0x7bd5b06c8978>"
      ]
     },
     "execution_count": 24,
     "metadata": {},
     "output_type": "execute_result"
    },
    {
     "data": {
      "image/png": "[encoded data removed]",
      "text/plain": [
       "<Figure size 432x288 with 1 Axes>"
      ]
     },
     "metadata": {},
     "output_type": "display_data"
    }
   ],
   "source": [
    "sns.scatterplot(x=tnse_results[:,0], y=tnse_results[:,1])"
   ]
  },
  {
   "cell_type": "markdown",
   "metadata": {
    "_uuid": "25e2df272f8d59e0643672c5a63f57828c4c4e4f"
   },
   "source": [
    "<a id=\"5\"></a> \n",
    "## Making Recommendations"
   ]
  },
  {
   "cell_type": "code",
   "execution_count": 25,
   "metadata": {
    "_uuid": "338247f69e3cac89fca7193fad14d01345f665fa",
    "execution": {
     "iopub.execute_input": "2024-05-15T05:11:15.515259Z",
     "iopub.status.busy": "2024-05-15T05:11:15.514766Z",
     "iopub.status.idle": "2024-05-15T05:11:15.629564Z",
     "shell.execute_reply": "2024-05-15T05:11:15.628715Z",
     "shell.execute_reply.started": "2024-05-15T05:11:15.515185Z"
    }
   },
   "outputs": [
    {
     "data": {
      "text/plain": [
       "array([1, 2, 3, 4, 5])"
      ]
     },
     "execution_count": 25,
     "metadata": {},
     "output_type": "execute_result"
    }
   ],
   "source": [
    "# Creating dataset for making recommendations for the first user\n",
    "book_data = np.array(list(set(dataset.book_id)))\n",
    "book_data[:5]"
   ]
  },
  {
   "cell_type": "code",
   "execution_count": 26,
   "metadata": {
    "_uuid": "0d36d052b953a1728fd380587b708a786c9f44ad",
    "execution": {
     "iopub.execute_input": "2024-05-15T05:11:15.631289Z",
     "iopub.status.busy": "2024-05-15T05:11:15.631029Z",
     "iopub.status.idle": "2024-05-15T05:11:15.649235Z",
     "shell.execute_reply": "2024-05-15T05:11:15.648155Z",
     "shell.execute_reply.started": "2024-05-15T05:11:15.631244Z"
    }
   },
   "outputs": [
    {
     "data": {
      "text/plain": [
       "array([1, 1, 1, 1, 1])"
      ]
     },
     "execution_count": 26,
     "metadata": {},
     "output_type": "execute_result"
    }
   ],
   "source": [
    "user = np.array([1 for i in range(len(book_data))])\n",
    "user[:5]"
   ]
  },
  {
   "cell_type": "code",
   "execution_count": 27,
   "metadata": {
    "_uuid": "2866ef2273e6b7e1af5d8d4fd5fac0ae23f19df8",
    "execution": {
     "iopub.execute_input": "2024-05-15T05:11:15.651042Z",
     "iopub.status.busy": "2024-05-15T05:11:15.650762Z",
     "iopub.status.idle": "2024-05-15T05:11:15.779692Z",
     "shell.execute_reply": "2024-05-15T05:11:15.778744Z",
     "shell.execute_reply.started": "2024-05-15T05:11:15.650994Z"
    }
   },
   "outputs": [
    {
     "data": {
      "text/plain": [
       "array([7638, 8340, 5724, 9982, 7062])"
      ]
     },
     "execution_count": 27,
     "metadata": {},
     "output_type": "execute_result"
    }
   ],
   "source": [
    "predictions = model.predict([user, book_data])\n",
    "\n",
    "predictions = np.array([a[0] for a in predictions])\n",
    "\n",
    "recommended_book_ids = (-predictions).argsort()[:5] \n",
    "\n",
    "recommended_book_ids"
   ]
  },
  {
   "cell_type": "code",
   "execution_count": 28,
   "metadata": {
    "_uuid": "949de7b0d1da1e77d46161ea7c99632c6762a0cf",
    "execution": {
     "iopub.execute_input": "2024-05-15T05:11:15.781293Z",
     "iopub.status.busy": "2024-05-15T05:11:15.780985Z",
     "iopub.status.idle": "2024-05-15T05:11:15.788018Z",
     "shell.execute_reply": "2024-05-15T05:11:15.787086Z",
     "shell.execute_reply.started": "2024-05-15T05:11:15.781235Z"
    }
   },
   "outputs": [
    {
     "data": {
      "text/plain": [
       "array([4.6713495, 4.575165 , 4.479192 , 4.4182525, 4.3903074],\n",
       "      dtype=float32)"
      ]
     },
     "execution_count": 28,
     "metadata": {},
     "output_type": "execute_result"
    }
   ],
   "source": [
    "# print predicted scores\n",
    "predictions[recommended_book_ids]"
   ]
  },
  {
   "cell_type": "code",
   "execution_count": 29,
   "metadata": {
    "_uuid": "f54324c06a3a0715790def55e1b4906da0a0aae9",
    "execution": {
     "iopub.execute_input": "2024-05-15T05:11:15.789835Z",
     "iopub.status.busy": "2024-05-15T05:11:15.789459Z",
     "iopub.status.idle": "2024-05-15T05:11:15.970297Z",
     "shell.execute_reply": "2024-05-15T05:11:15.969306Z",
     "shell.execute_reply.started": "2024-05-15T05:11:15.789773Z"
    }
   },
   "outputs": [
    {
     "data": {
      "text/html": [
       "<div>\n",
       "<style scoped>\n",
       "    .dataframe tbody tr th:only-of-type {\n",
       "        vertical-align: middle;\n",
       "    }\n",
       "\n",
       "    .dataframe tbody tr th {\n",
       "        vertical-align: top;\n",
       "    }\n",
       "\n",
       "    .dataframe thead th {\n",
       "        text-align: right;\n",
       "    }\n",
       "</style>\n",
       "<table border=\"1\" class=\"dataframe\">\n",
       "  <thead>\n",
       "    <tr style=\"text-align: right;\">\n",
       "      <th></th>\n",
       "      <th>id</th>\n",
       "      <th>book_id</th>\n",
       "      <th>best_book_id</th>\n",
       "      <th>work_id</th>\n",
       "      <th>books_count</th>\n",
       "      <th>isbn</th>\n",
       "      <th>isbn13</th>\n",
       "      <th>authors</th>\n",
       "      <th>original_publication_year</th>\n",
       "      <th>original_title</th>\n",
       "      <th>title</th>\n",
       "      <th>language_code</th>\n",
       "      <th>average_rating</th>\n",
       "      <th>ratings_count</th>\n",
       "      <th>work_ratings_count</th>\n",
       "      <th>work_text_reviews_count</th>\n",
       "      <th>ratings_1</th>\n",
       "      <th>ratings_2</th>\n",
       "      <th>ratings_3</th>\n",
       "      <th>ratings_4</th>\n",
       "      <th>ratings_5</th>\n",
       "      <th>image_url</th>\n",
       "      <th>small_image_url</th>\n",
       "    </tr>\n",
       "  </thead>\n",
       "  <tbody>\n",
       "    <tr>\n",
       "      <th>0</th>\n",
       "      <td>1</td>\n",
       "      <td>2767052</td>\n",
       "      <td>2767052</td>\n",
       "      <td>2792775</td>\n",
       "      <td>272</td>\n",
       "      <td>439023483</td>\n",
       "      <td>9.780439e+12</td>\n",
       "      <td>Suzanne Collins</td>\n",
       "      <td>2008.0</td>\n",
       "      <td>The Hunger Games</td>\n",
       "      <td>The Hunger Games (The Hunger Games, #1)</td>\n",
       "      <td>eng</td>\n",
       "      <td>4.34</td>\n",
       "      <td>4780653</td>\n",
       "      <td>4942365</td>\n",
       "      <td>155254</td>\n",
       "      <td>66715</td>\n",
       "      <td>127936</td>\n",
       "      <td>560092</td>\n",
       "      <td>1481305</td>\n",
       "      <td>2706317</td>\n",
       "      <td>https://images.gr-assets.com/books/1447303603m...</td>\n",
       "      <td>https://images.gr-assets.com/books/1447303603s...</td>\n",
       "    </tr>\n",
       "    <tr>\n",
       "      <th>1</th>\n",
       "      <td>2</td>\n",
       "      <td>3</td>\n",
       "      <td>3</td>\n",
       "      <td>4640799</td>\n",
       "      <td>491</td>\n",
       "      <td>439554934</td>\n",
       "      <td>9.780440e+12</td>\n",
       "      <td>J.K. Rowling, Mary GrandPré</td>\n",
       "      <td>1997.0</td>\n",
       "      <td>Harry Potter and the Philosopher's Stone</td>\n",
       "      <td>Harry Potter and the Sorcerer's Stone (Harry P...</td>\n",
       "      <td>eng</td>\n",
       "      <td>4.44</td>\n",
       "      <td>4602479</td>\n",
       "      <td>4800065</td>\n",
       "      <td>75867</td>\n",
       "      <td>75504</td>\n",
       "      <td>101676</td>\n",
       "      <td>455024</td>\n",
       "      <td>1156318</td>\n",
       "      <td>3011543</td>\n",
       "      <td>https://images.gr-assets.com/books/1474154022m...</td>\n",
       "      <td>https://images.gr-assets.com/books/1474154022s...</td>\n",
       "    </tr>\n",
       "    <tr>\n",
       "      <th>2</th>\n",
       "      <td>3</td>\n",
       "      <td>41865</td>\n",
       "      <td>41865</td>\n",
       "      <td>3212258</td>\n",
       "      <td>226</td>\n",
       "      <td>316015849</td>\n",
       "      <td>9.780316e+12</td>\n",
       "      <td>Stephenie Meyer</td>\n",
       "      <td>2005.0</td>\n",
       "      <td>Twilight</td>\n",
       "      <td>Twilight (Twilight, #1)</td>\n",
       "      <td>en-US</td>\n",
       "      <td>3.57</td>\n",
       "      <td>3866839</td>\n",
       "      <td>3916824</td>\n",
       "      <td>95009</td>\n",
       "      <td>456191</td>\n",
       "      <td>436802</td>\n",
       "      <td>793319</td>\n",
       "      <td>875073</td>\n",
       "      <td>1355439</td>\n",
       "      <td>https://images.gr-assets.com/books/1361039443m...</td>\n",
       "      <td>https://images.gr-assets.com/books/1361039443s...</td>\n",
       "    </tr>\n",
       "    <tr>\n",
       "      <th>3</th>\n",
       "      <td>4</td>\n",
       "      <td>2657</td>\n",
       "      <td>2657</td>\n",
       "      <td>3275794</td>\n",
       "      <td>487</td>\n",
       "      <td>61120081</td>\n",
       "      <td>9.780061e+12</td>\n",
       "      <td>Harper Lee</td>\n",
       "      <td>1960.0</td>\n",
       "      <td>To Kill a Mockingbird</td>\n",
       "      <td>To Kill a Mockingbird</td>\n",
       "      <td>eng</td>\n",
       "      <td>4.25</td>\n",
       "      <td>3198671</td>\n",
       "      <td>3340896</td>\n",
       "      <td>72586</td>\n",
       "      <td>60427</td>\n",
       "      <td>117415</td>\n",
       "      <td>446835</td>\n",
       "      <td>1001952</td>\n",
       "      <td>1714267</td>\n",
       "      <td>https://images.gr-assets.com/books/1361975680m...</td>\n",
       "      <td>https://images.gr-assets.com/books/1361975680s...</td>\n",
       "    </tr>\n",
       "    <tr>\n",
       "      <th>4</th>\n",
       "      <td>5</td>\n",
       "      <td>4671</td>\n",
       "      <td>4671</td>\n",
       "      <td>245494</td>\n",
       "      <td>1356</td>\n",
       "      <td>743273567</td>\n",
       "      <td>9.780743e+12</td>\n",
       "      <td>F. Scott Fitzgerald</td>\n",
       "      <td>1925.0</td>\n",
       "      <td>The Great Gatsby</td>\n",
       "      <td>The Great Gatsby</td>\n",
       "      <td>eng</td>\n",
       "      <td>3.89</td>\n",
       "      <td>2683664</td>\n",
       "      <td>2773745</td>\n",
       "      <td>51992</td>\n",
       "      <td>86236</td>\n",
       "      <td>197621</td>\n",
       "      <td>606158</td>\n",
       "      <td>936012</td>\n",
       "      <td>947718</td>\n",
       "      <td>https://images.gr-assets.com/books/1490528560m...</td>\n",
       "      <td>https://images.gr-assets.com/books/1490528560s...</td>\n",
       "    </tr>\n",
       "  </tbody>\n",
       "</table>\n",
       "</div>"
      ],
      "text/plain": [
       "   id                        ...                                                            small_image_url\n",
       "0   1                        ...                          https://images.gr-assets.com/books/1447303603s...\n",
       "1   2                        ...                          https://images.gr-assets.com/books/1474154022s...\n",
       "2   3                        ...                          https://images.gr-assets.com/books/1361039443s...\n",
       "3   4                        ...                          https://images.gr-assets.com/books/1361975680s...\n",
       "4   5                        ...                          https://images.gr-assets.com/books/1490528560s...\n",
       "\n",
       "[5 rows x 23 columns]"
      ]
     },
     "execution_count": 29,
     "metadata": {},
     "output_type": "execute_result"
    }
   ],
   "source": [
    "books = pd.read_csv('../input/books.csv')\n",
    "books.head()"
   ]
  },
  {
   "cell_type": "code",
   "execution_count": 30,
   "metadata": {
    "_uuid": "0467be8c8042a90ec905d0082d410ab4a89564af",
    "execution": {
     "iopub.execute_input": "2024-05-15T05:11:15.972103Z",
     "iopub.status.busy": "2024-05-15T05:11:15.971798Z",
     "iopub.status.idle": "2024-05-15T05:11:16.033812Z",
     "shell.execute_reply": "2024-05-15T05:11:16.033070Z",
     "shell.execute_reply.started": "2024-05-15T05:11:15.972044Z"
    }
   },
   "outputs": [
    {
     "data": {
      "text/html": [
       "<div>\n",
       "<style scoped>\n",
       "    .dataframe tbody tr th:only-of-type {\n",
       "        vertical-align: middle;\n",
       "    }\n",
       "\n",
       "    .dataframe tbody tr th {\n",
       "        vertical-align: top;\n",
       "    }\n",
       "\n",
       "    .dataframe thead th {\n",
       "        text-align: right;\n",
       "    }\n",
       "</style>\n",
       "<table border=\"1\" class=\"dataframe\">\n",
       "  <thead>\n",
       "    <tr style=\"text-align: right;\">\n",
       "      <th></th>\n",
       "      <th>id</th>\n",
       "      <th>book_id</th>\n",
       "      <th>best_book_id</th>\n",
       "      <th>work_id</th>\n",
       "      <th>books_count</th>\n",
       "      <th>isbn</th>\n",
       "      <th>isbn13</th>\n",
       "      <th>authors</th>\n",
       "      <th>original_publication_year</th>\n",
       "      <th>original_title</th>\n",
       "      <th>title</th>\n",
       "      <th>language_code</th>\n",
       "      <th>average_rating</th>\n",
       "      <th>ratings_count</th>\n",
       "      <th>work_ratings_count</th>\n",
       "      <th>work_text_reviews_count</th>\n",
       "      <th>ratings_1</th>\n",
       "      <th>ratings_2</th>\n",
       "      <th>ratings_3</th>\n",
       "      <th>ratings_4</th>\n",
       "      <th>ratings_5</th>\n",
       "      <th>image_url</th>\n",
       "      <th>small_image_url</th>\n",
       "    </tr>\n",
       "  </thead>\n",
       "  <tbody>\n",
       "    <tr>\n",
       "      <th>5723</th>\n",
       "      <td>5724</td>\n",
       "      <td>7124475</td>\n",
       "      <td>7124475</td>\n",
       "      <td>13036225</td>\n",
       "      <td>9</td>\n",
       "      <td>1442406593</td>\n",
       "      <td>9.781442e+12</td>\n",
       "      <td>Jennifer Echols</td>\n",
       "      <td>2010.0</td>\n",
       "      <td>Endless Summer</td>\n",
       "      <td>Endless Summer (The Boys Next Door, #1-2)</td>\n",
       "      <td>eng</td>\n",
       "      <td>4.02</td>\n",
       "      <td>18438</td>\n",
       "      <td>18642</td>\n",
       "      <td>648</td>\n",
       "      <td>417</td>\n",
       "      <td>1223</td>\n",
       "      <td>3860</td>\n",
       "      <td>5275</td>\n",
       "      <td>7867</td>\n",
       "      <td>https://images.gr-assets.com/books/1276962830m...</td>\n",
       "      <td>https://images.gr-assets.com/books/1276962830s...</td>\n",
       "    </tr>\n",
       "    <tr>\n",
       "      <th>7061</th>\n",
       "      <td>7062</td>\n",
       "      <td>12743472</td>\n",
       "      <td>12743472</td>\n",
       "      <td>17882885</td>\n",
       "      <td>27</td>\n",
       "      <td>1408319462</td>\n",
       "      <td>9.781408e+12</td>\n",
       "      <td>Teri Terry</td>\n",
       "      <td>2012.0</td>\n",
       "      <td>Slated</td>\n",
       "      <td>Slated (Slated, #1)</td>\n",
       "      <td>eng</td>\n",
       "      <td>4.07</td>\n",
       "      <td>17404</td>\n",
       "      <td>19805</td>\n",
       "      <td>2404</td>\n",
       "      <td>272</td>\n",
       "      <td>868</td>\n",
       "      <td>3661</td>\n",
       "      <td>7489</td>\n",
       "      <td>7515</td>\n",
       "      <td>https://images.gr-assets.com/books/1453582609m...</td>\n",
       "      <td>https://images.gr-assets.com/books/1453582609s...</td>\n",
       "    </tr>\n",
       "    <tr>\n",
       "      <th>7637</th>\n",
       "      <td>7638</td>\n",
       "      <td>12009</td>\n",
       "      <td>12009</td>\n",
       "      <td>2465248</td>\n",
       "      <td>28</td>\n",
       "      <td>1597800449</td>\n",
       "      <td>9.781598e+12</td>\n",
       "      <td>Iain M. Banks</td>\n",
       "      <td>2004.0</td>\n",
       "      <td>The Algebraist</td>\n",
       "      <td>The Algebraist</td>\n",
       "      <td>eng</td>\n",
       "      <td>3.99</td>\n",
       "      <td>13210</td>\n",
       "      <td>14793</td>\n",
       "      <td>606</td>\n",
       "      <td>185</td>\n",
       "      <td>684</td>\n",
       "      <td>3067</td>\n",
       "      <td>5984</td>\n",
       "      <td>4873</td>\n",
       "      <td>https://s.gr-assets.com/assets/nophoto/book/11...</td>\n",
       "      <td>https://s.gr-assets.com/assets/nophoto/book/50...</td>\n",
       "    </tr>\n",
       "    <tr>\n",
       "      <th>8339</th>\n",
       "      <td>8340</td>\n",
       "      <td>41958</td>\n",
       "      <td>41958</td>\n",
       "      <td>41459</td>\n",
       "      <td>78</td>\n",
       "      <td>752865366</td>\n",
       "      <td>9.780753e+12</td>\n",
       "      <td>Maeve Binchy</td>\n",
       "      <td>2004.0</td>\n",
       "      <td>Nights of Rain and Stars</td>\n",
       "      <td>Nights of Rain and Stars</td>\n",
       "      <td>en-GB</td>\n",
       "      <td>3.67</td>\n",
       "      <td>12365</td>\n",
       "      <td>14137</td>\n",
       "      <td>1015</td>\n",
       "      <td>282</td>\n",
       "      <td>1158</td>\n",
       "      <td>4544</td>\n",
       "      <td>5117</td>\n",
       "      <td>3036</td>\n",
       "      <td>https://images.gr-assets.com/books/1355496059m...</td>\n",
       "      <td>https://images.gr-assets.com/books/1355496059s...</td>\n",
       "    </tr>\n",
       "    <tr>\n",
       "      <th>9981</th>\n",
       "      <td>9982</td>\n",
       "      <td>12444298</td>\n",
       "      <td>12444298</td>\n",
       "      <td>21900571</td>\n",
       "      <td>1</td>\n",
       "      <td>385344422</td>\n",
       "      <td>9.780385e+12</td>\n",
       "      <td>Karen Marie Moning</td>\n",
       "      <td>2016.0</td>\n",
       "      <td>Feverborn</td>\n",
       "      <td>Feverborn (Fever, #8)</td>\n",
       "      <td>eng</td>\n",
       "      <td>4.18</td>\n",
       "      <td>11570</td>\n",
       "      <td>14194</td>\n",
       "      <td>1891</td>\n",
       "      <td>179</td>\n",
       "      <td>521</td>\n",
       "      <td>2308</td>\n",
       "      <td>4779</td>\n",
       "      <td>6407</td>\n",
       "      <td>https://images.gr-assets.com/books/1435195536m...</td>\n",
       "      <td>https://images.gr-assets.com/books/1435195536s...</td>\n",
       "    </tr>\n",
       "  </tbody>\n",
       "</table>\n",
       "</div>"
      ],
      "text/plain": [
       "        id                        ...                                                            small_image_url\n",
       "5723  5724                        ...                          https://images.gr-assets.com/books/1276962830s...\n",
       "7061  7062                        ...                          https://images.gr-assets.com/books/1453582609s...\n",
       "7637  7638                        ...                          https://s.gr-assets.com/assets/nophoto/book/50...\n",
       "8339  8340                        ...                          https://images.gr-assets.com/books/1355496059s...\n",
       "9981  9982                        ...                          https://images.gr-assets.com/books/1435195536s...\n",
       "\n",
       "[5 rows x 23 columns]"
      ]
     },
     "execution_count": 30,
     "metadata": {},
     "output_type": "execute_result"
    }
   ],
   "source": [
    "books[books['id'].isin(recommended_book_ids)]"
   ]
  }
 ],
 "metadata": {
  "kaggle": {
   "accelerator": "gpu",
   "dataSources": [
    {
     "datasetId": 1938,
     "sourceId": 3914,
     "sourceType": "datasetVersion"
    }
   ],
   "dockerImageVersionId": 22192,
   "isGpuEnabled": true,
   "isInternetEnabled": false,
   "language": "python",
   "sourceType": "notebook"
  },
  "kernelspec": {
   "display_name": "Python 3",
   "language": "python",
   "name": "python3"
  },
  "language_info": {
   "codemirror_mode": {
    "name": "ipython",
    "version": 3
   },
   "file_extension": ".py",
   "mimetype": "text/x-python",
   "name": "python",
   "nbconvert_exporter": "python",
   "pygments_lexer": "ipython3",
   "version": "3.6.6"
  }
 },
 "nbformat": 4,
 "nbformat_minor": 4
}
